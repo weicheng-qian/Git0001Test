{
 "cells": [
  {
   "cell_type": "code",
   "execution_count": 5,
   "id": "84deaf11-586c-44bc-98b1-780b7022d06d",
   "metadata": {},
   "outputs": [],
   "source": [
    "from transformers import pipeline\n",
    "import sys\n",
    "import os\n",
    "import platform\n",
    "import transformers\n",
    "\n",
    "os.environ['HF_HOME'] = 'D:\\Z_Model\\hf'\n",
    "os.environ['HF_HUB_CACHE'] = 'D:\\Z_Model\\hf\\hub'"
   ]
  },
  {
   "cell_type": "code",
   "execution_count": 6,
   "id": "c9c34074-0591-4e3e-a906-f9086b2c7bea",
   "metadata": {},
   "outputs": [
    {
     "name": "stderr",
     "output_type": "stream",
     "text": [
      "No model was supplied, defaulted to distilbert-base-uncased-finetuned-sst-2-english and revision af0f99b (https://huggingface.co/distilbert-base-uncased-finetuned-sst-2-english).\n",
      "Using a pipeline without specifying a model name and revision in production is not recommended.\n",
      "E:\\02_Python\\00_Env-Path-Install\\anaconda3\\envs\\AliOpenAPI\\Lib\\site-packages\\huggingface_hub\\file_download.py:943: FutureWarning: `resume_download` is deprecated and will be removed in version 1.0.0. Downloads always resume when possible. If you want to force a new download, use `force_download=True`.\n",
      "  warnings.warn(\n"
     ]
    },
    {
     "data": {
      "text/plain": [
       "[{'label': 'NEGATIVE', 'score': 0.8957217335700989}]"
      ]
     },
     "execution_count": 6,
     "metadata": {},
     "output_type": "execute_result"
    }
   ],
   "source": [
    "# 仅指定任务时，使用默认模型（不推荐）\n",
    "pipe = pipeline(\"sentiment-analysis\")\n",
    "pipe(\"今儿上海可真冷啊\")"
   ]
  },
  {
   "cell_type": "code",
   "execution_count": 31,
   "id": "41586542-abbe-4d05-9563-1d48418abd91",
   "metadata": {},
   "outputs": [
    {
     "data": {
      "text/plain": [
       "[{'label': 'NEGATIVE', 'score': 0.9995032548904419}]"
      ]
     },
     "execution_count": 31,
     "metadata": {},
     "output_type": "execute_result"
    }
   ],
   "source": [
    "pipe(\"Today Shanghai is really cold.\")"
   ]
  },
  {
   "cell_type": "code",
   "execution_count": 32,
   "id": "7f5cf850-ed43-4c24-a93c-2d103787a068",
   "metadata": {},
   "outputs": [
    {
     "data": {
      "text/plain": [
       "[{'label': 'NEGATIVE', 'score': 0.9079708456993103}]"
      ]
     },
     "execution_count": 32,
     "metadata": {},
     "output_type": "execute_result"
    }
   ],
   "source": [
    "pipe(\"我觉得这家店蒜泥白的味道一般\")"
   ]
  },
  {
   "cell_type": "code",
   "execution_count": 5,
   "id": "adbbd951-cee9-4c2a-afd2-2473fd545294",
   "metadata": {},
   "outputs": [
    {
     "data": {
      "text/plain": [
       "[{'label': 'NEGATIVE', 'score': 0.9995032548904419},\n",
       " {'label': 'NEGATIVE', 'score': 0.9984821677207947},\n",
       " {'label': 'POSITIVE', 'score': 0.9961802959442139}]"
      ]
     },
     "execution_count": 5,
     "metadata": {},
     "output_type": "execute_result"
    }
   ],
   "source": [
    "text_list = [\n",
    "    \"Today Shanghai is really cold.\",\n",
    "    \"I think the taste of the garlic mashed pork in this store is average.\",\n",
    "    \"You learn things really quickly. You understand the theory class as soon as it is taught.\"\n",
    "]\n",
    "\n",
    "pipe(text_list)"
   ]
  },
  {
   "cell_type": "code",
   "execution_count": 9,
   "id": "452308fe-113c-481f-9e07-69ed8e88f719",
   "metadata": {},
   "outputs": [
    {
     "name": "stderr",
     "output_type": "stream",
     "text": [
      "No model was supplied, defaulted to dbmdz/bert-large-cased-finetuned-conll03-english and revision f2482bf (https://huggingface.co/dbmdz/bert-large-cased-finetuned-conll03-english).\n",
      "Using a pipeline without specifying a model name and revision in production is not recommended.\n"
     ]
    },
    {
     "data": {
      "application/vnd.jupyter.widget-view+json": {
       "model_id": "aeaf334b9be04bc981e1ce01f4004043",
       "version_major": 2,
       "version_minor": 0
      },
      "text/plain": [
       "model.safetensors:   0%|          | 0.00/1.33G [00:00<?, ?B/s]"
      ]
     },
     "metadata": {},
     "output_type": "display_data"
    },
    {
     "name": "stderr",
     "output_type": "stream",
     "text": [
      "E:\\02_Python\\00_Env-Path-Install\\anaconda3\\envs\\AliOpenAPI\\Lib\\site-packages\\huggingface_hub\\file_download.py:143: UserWarning: `huggingface_hub` cache-system uses symlinks by default to efficiently store duplicated files but your machine does not support them in C:\\Users\\Admin\\.cache\\huggingface\\hub\\models--dbmdz--bert-large-cased-finetuned-conll03-english. Caching files will still work but in a degraded version that might require more space on your disk. This warning can be disabled by setting the `HF_HUB_DISABLE_SYMLINKS_WARNING` environment variable. For more details, see https://huggingface.co/docs/huggingface_hub/how-to-cache#limitations.\n",
      "To support symlinks on Windows, you either need to activate Developer Mode or to run Python as an administrator. In order to activate developer mode, see this article: https://docs.microsoft.com/en-us/windows/apps/get-started/enable-your-device-for-development\n",
      "  warnings.warn(message)\n",
      "Some weights of the model checkpoint at dbmdz/bert-large-cased-finetuned-conll03-english were not used when initializing BertForTokenClassification: ['bert.pooler.dense.bias', 'bert.pooler.dense.weight']\n",
      "- This IS expected if you are initializing BertForTokenClassification from the checkpoint of a model trained on another task or with another architecture (e.g. initializing a BertForSequenceClassification model from a BertForPreTraining model).\n",
      "- This IS NOT expected if you are initializing BertForTokenClassification from the checkpoint of a model that you expect to be exactly identical (initializing a BertForSequenceClassification model from a BertForSequenceClassification model).\n"
     ]
    },
    {
     "data": {
      "application/vnd.jupyter.widget-view+json": {
       "model_id": "75e35b9eba124b62be91c0c577118857",
       "version_major": 2,
       "version_minor": 0
      },
      "text/plain": [
       "tokenizer_config.json:   0%|          | 0.00/60.0 [00:00<?, ?B/s]"
      ]
     },
     "metadata": {},
     "output_type": "display_data"
    },
    {
     "data": {
      "application/vnd.jupyter.widget-view+json": {
       "model_id": "fca4a4a4f77247e793ee7b5088b947bf",
       "version_major": 2,
       "version_minor": 0
      },
      "text/plain": [
       "vocab.txt: 0.00B [00:00, ?B/s]"
      ]
     },
     "metadata": {},
     "output_type": "display_data"
    }
   ],
   "source": [
    "from transformers import pipeline\n",
    "\n",
    "classifier = pipeline(task=\"ner\")"
   ]
  },
  {
   "cell_type": "code",
   "execution_count": 20,
   "id": "22dcb034-9e1a-4115-af9a-f24a03dd28f3",
   "metadata": {},
   "outputs": [
    {
     "name": "stdout",
     "output_type": "stream",
     "text": [
      "{'entity': 'I-ORG', 'score': 0.9968, 'index': 1, 'word': 'Hu', 'start': 0, 'end': 2}\n",
      "{'entity': 'I-ORG', 'score': 0.9293, 'index': 2, 'word': '##gging', 'start': 2, 'end': 7}\n",
      "{'entity': 'I-ORG', 'score': 0.9763, 'index': 3, 'word': 'Face', 'start': 8, 'end': 12}\n",
      "{'entity': 'I-MISC', 'score': 0.9983, 'index': 6, 'word': 'French', 'start': 18, 'end': 24}\n",
      "{'entity': 'I-LOC', 'score': 0.999, 'index': 10, 'word': 'New', 'start': 42, 'end': 45}\n",
      "{'entity': 'I-LOC', 'score': 0.9987, 'index': 11, 'word': 'York', 'start': 46, 'end': 50}\n",
      "{'entity': 'I-LOC', 'score': 0.9992, 'index': 12, 'word': 'City', 'start': 51, 'end': 55}\n"
     ]
    }
   ],
   "source": [
    "preds = classifier(\"Hugging Face is a French company based in New York City.\")\n",
    "preds = [\n",
    "    {\n",
    "        \"entity\": pred[\"entity\"],\n",
    "        \"score\": round(pred[\"score\"], 4),\n",
    "        \"index\": pred[\"index\"],\n",
    "        \"word\": pred[\"word\"],\n",
    "        \"start\": pred[\"start\"],\n",
    "        \"end\": pred[\"end\"],\n",
    "    }\n",
    "    for pred in preds\n",
    "]\n",
    "print(*preds, sep=\"\\n\")"
   ]
  },
  {
   "cell_type": "code",
   "execution_count": 24,
   "id": "279a8ccd-93c1-4fb9-9716-47b1f2c7ca6f",
   "metadata": {},
   "outputs": [
    {
     "name": "stdout",
     "output_type": "stream",
     "text": [
      "使用设备: CPU\n",
      "\n",
      "===== 情感分析模型对比 =====\n",
      "\n",
      "正在测试模型: distilbert-base-uncased-finetuned-sst-2-english\n",
      "文本: I absolutely love this product! It exceeded all my...\n",
      "  情感: POSITIVE, 置信度: 0.9999, 耗时: 0.0473秒\n",
      "文本: The movie was okay, not the best I've seen but cer...\n",
      "  情感: NEGATIVE, 置信度: 0.8011, 耗时: 0.0443秒\n",
      "文本: The package arrived on time as scheduled....\n",
      "  情感: POSITIVE, 置信度: 0.9200, 耗时: 0.0393秒\n",
      "文本: I wasn't really impressed with the service, but it...\n",
      "  情感: POSITIVE, 置信度: 0.5473, 耗时: 0.0448秒\n",
      "文本: This is the worst experience I've ever had with an...\n",
      "  情感: NEGATIVE, 置信度: 0.9997, 耗时: 0.0473秒\n",
      "文本: Oh great, another rainy day. Just what I needed fo...\n",
      "  情感: POSITIVE, 置信度: 0.9980, 耗时: 0.0452秒\n",
      "文本: The food was delicious but the service was so slow...\n",
      "  情感: NEGATIVE, 置信度: 0.9997, 耗时: 0.0406秒\n",
      "\n",
      "模型 distilbert-base-uncased-finetuned-sst-2-english 总结:\n",
      "  平均推理时间: 0.0441秒\n",
      "  总耗时 (包括加载): 2.1415秒\n",
      "  模型大小: 67.0M 参数\n",
      "\n",
      "正在测试模型: nlptown/bert-base-multilingual-uncased-sentiment\n",
      "文本: I absolutely love this product! It exceeded all my...\n",
      "  情感: 5 stars, 置信度: 0.9756, 耗时: 0.1010秒\n",
      "文本: The movie was okay, not the best I've seen but cer...\n",
      "  情感: 3 stars, 置信度: 0.8667, 耗时: 0.0921秒\n",
      "文本: The package arrived on time as scheduled....\n",
      "  情感: 5 stars, 置信度: 0.3887, 耗时: 0.0532秒\n",
      "文本: I wasn't really impressed with the service, but it...\n",
      "  情感: 3 stars, 置信度: 0.6501, 耗时: 0.0749秒\n",
      "文本: This is the worst experience I've ever had with an...\n",
      "  情感: 1 star, 置信度: 0.9651, 耗时: 0.0933秒\n",
      "文本: Oh great, another rainy day. Just what I needed fo...\n",
      "  情感: 5 stars, 置信度: 0.7697, 耗时: 0.0843秒\n",
      "文本: The food was delicious but the service was so slow...\n",
      "  情感: 2 stars, 置信度: 0.5631, 耗时: 0.0821秒\n",
      "\n",
      "模型 nlptown/bert-base-multilingual-uncased-sentiment 总结:\n",
      "  平均推理时间: 0.0830秒\n",
      "  总耗时 (包括加载): 2.8029秒\n",
      "  模型大小: 167.4M 参数\n",
      "\n",
      "正在测试模型: cardiffnlp/twitter-roberta-base-sentiment\n"
     ]
    },
    {
     "data": {
      "application/vnd.jupyter.widget-view+json": {
       "model_id": "09e1387a711a46ec98a867ef7eb787ee",
       "version_major": 2,
       "version_minor": 0
      },
      "text/plain": [
       "vocab.json: 0.00B [00:00, ?B/s]"
      ]
     },
     "metadata": {},
     "output_type": "display_data"
    },
    {
     "data": {
      "application/vnd.jupyter.widget-view+json": {
       "model_id": "20d6b8f05a3e4474af9f6fc9ca25b336",
       "version_major": 2,
       "version_minor": 0
      },
      "text/plain": [
       "merges.txt: 0.00B [00:00, ?B/s]"
      ]
     },
     "metadata": {},
     "output_type": "display_data"
    },
    {
     "data": {
      "application/vnd.jupyter.widget-view+json": {
       "model_id": "797cc822654e49adaa463b199a44c483",
       "version_major": 2,
       "version_minor": 0
      },
      "text/plain": [
       "special_tokens_map.json:   0%|          | 0.00/150 [00:00<?, ?B/s]"
      ]
     },
     "metadata": {},
     "output_type": "display_data"
    },
    {
     "name": "stdout",
     "output_type": "stream",
     "text": [
      "加载模型 cardiffnlp/twitter-roberta-base-sentiment 失败: Failed to import transformers.models.roberta.modeling_roberta because of the following error (look up to see its traceback):\n",
      "cannot import name 'EncoderDecoderCache' from 'transformers.cache_utils' (E:\\02_Python\\00_Env-Path-Install\\anaconda3\\envs\\AliOpenAPI\\Lib\\site-packages\\transformers\\cache_utils.py)\n",
      "\n",
      "正在测试模型: textattack/bert-base-uncased-SST-2-finetuned\n",
      "加载模型 textattack/bert-base-uncased-SST-2-finetuned 失败: textattack/bert-base-uncased-SST-2-finetuned is not a local folder and is not a valid model identifier listed on 'https://huggingface.co/models'\n",
      "If this is a private repository, make sure to pass a token having permission to this repo either by logging in with `huggingface-cli login` or by passing `token=<your_token>`\n",
      "\n",
      "正在测试模型: siebert/sentiment-roberta-large-english\n"
     ]
    },
    {
     "data": {
      "application/vnd.jupyter.widget-view+json": {
       "model_id": "1c89a8e6451d4a8a9955f71a016902af",
       "version_major": 2,
       "version_minor": 0
      },
      "text/plain": [
       "tokenizer_config.json:   0%|          | 0.00/256 [00:00<?, ?B/s]"
      ]
     },
     "metadata": {},
     "output_type": "display_data"
    },
    {
     "data": {
      "application/vnd.jupyter.widget-view+json": {
       "model_id": "bc44e58d641d4a2589812e64b5000e02",
       "version_major": 2,
       "version_minor": 0
      },
      "text/plain": [
       "config.json:   0%|          | 0.00/687 [00:00<?, ?B/s]"
      ]
     },
     "metadata": {},
     "output_type": "display_data"
    },
    {
     "data": {
      "application/vnd.jupyter.widget-view+json": {
       "model_id": "651f85f765774080a027a7f57104ff9c",
       "version_major": 2,
       "version_minor": 0
      },
      "text/plain": [
       "vocab.json: 0.00B [00:00, ?B/s]"
      ]
     },
     "metadata": {},
     "output_type": "display_data"
    },
    {
     "data": {
      "application/vnd.jupyter.widget-view+json": {
       "model_id": "09eb2b3f1eb440d682b1bd46484fd712",
       "version_major": 2,
       "version_minor": 0
      },
      "text/plain": [
       "merges.txt: 0.00B [00:00, ?B/s]"
      ]
     },
     "metadata": {},
     "output_type": "display_data"
    },
    {
     "data": {
      "application/vnd.jupyter.widget-view+json": {
       "model_id": "bf557ed546be4d4884418355c1be6f6f",
       "version_major": 2,
       "version_minor": 0
      },
      "text/plain": [
       "special_tokens_map.json:   0%|          | 0.00/150 [00:00<?, ?B/s]"
      ]
     },
     "metadata": {},
     "output_type": "display_data"
    },
    {
     "name": "stdout",
     "output_type": "stream",
     "text": [
      "加载模型 siebert/sentiment-roberta-large-english 失败: Failed to import transformers.models.roberta.modeling_roberta because of the following error (look up to see its traceback):\n",
      "cannot import name 'EncoderDecoderCache' from 'transformers.cache_utils' (E:\\02_Python\\00_Env-Path-Install\\anaconda3\\envs\\AliOpenAPI\\Lib\\site-packages\\transformers\\cache_utils.py)\n",
      "\n",
      "===== 情感分析模型性能对比 =====\n",
      "模型名称                                                         | 平均推理时间(秒)            | 模型大小\n",
      "----------------------------------------------------------------------------------------------------\n",
      "distilbert-base-uncased-finetuned-sst-2-english              | 0.0441               | 67.0M 参数\n",
      "nlptown/bert-base-multilingual-uncased-sentiment             | 0.0830               | 167.4M 参数\n"
     ]
    },
    {
     "data": {
      "image/png": "[encoded data removed]",
      "text/plain": [
       "<Figure size 1200x600 with 1 Axes>"
      ]
     },
     "metadata": {},
     "output_type": "display_data"
    },
    {
     "name": "stdout",
     "output_type": "stream",
     "text": [
      "\n",
      "===== 模型在不同情感类型文本上的表现 =====\n",
      "\n",
      "明显积极文本分析:\n",
      "模型名称                                                         | 预测情感            | 置信度       \n",
      "------------------------------------------------------------------------------------------\n",
      "distilbert-base-uncased-finetuned-sst-2-english              | POSITIVE        | 0.9999\n",
      "nlptown/bert-base-multilingual-uncased-sentiment             | 5 stars         | 0.9756\n",
      "\n",
      "轻微积极文本分析:\n",
      "模型名称                                                         | 预测情感            | 置信度       \n",
      "------------------------------------------------------------------------------------------\n",
      "distilbert-base-uncased-finetuned-sst-2-english              | NEGATIVE        | 0.8011\n",
      "nlptown/bert-base-multilingual-uncased-sentiment             | 3 stars         | 0.8667\n",
      "\n",
      "中性文本分析:\n",
      "模型名称                                                         | 预测情感            | 置信度       \n",
      "------------------------------------------------------------------------------------------\n",
      "distilbert-base-uncased-finetuned-sst-2-english              | POSITIVE        | 0.9200\n",
      "nlptown/bert-base-multilingual-uncased-sentiment             | 5 stars         | 0.3887\n",
      "\n",
      "轻微消极文本分析:\n",
      "模型名称                                                         | 预测情感            | 置信度       \n",
      "------------------------------------------------------------------------------------------\n",
      "distilbert-base-uncased-finetuned-sst-2-english              | POSITIVE        | 0.5473\n",
      "nlptown/bert-base-multilingual-uncased-sentiment             | 3 stars         | 0.6501\n",
      "\n",
      "明显消极文本分析:\n",
      "模型名称                                                         | 预测情感            | 置信度       \n",
      "------------------------------------------------------------------------------------------\n",
      "distilbert-base-uncased-finetuned-sst-2-english              | NEGATIVE        | 0.9997\n",
      "nlptown/bert-base-multilingual-uncased-sentiment             | 1 star          | 0.9651\n",
      "\n",
      "讽刺文本文本分析:\n",
      "模型名称                                                         | 预测情感            | 置信度       \n",
      "------------------------------------------------------------------------------------------\n",
      "distilbert-base-uncased-finetuned-sst-2-english              | POSITIVE        | 0.9980\n",
      "nlptown/bert-base-multilingual-uncased-sentiment             | 5 stars         | 0.7697\n",
      "\n",
      "复杂情感文本分析:\n",
      "模型名称                                                         | 预测情感            | 置信度       \n",
      "------------------------------------------------------------------------------------------\n",
      "distilbert-base-uncased-finetuned-sst-2-english              | NEGATIVE        | 0.9997\n",
      "nlptown/bert-base-multilingual-uncased-sentiment             | 2 stars         | 0.5631\n"
     ]
    }
   ],
   "source": [
    "import time\n",
    "import torch\n",
    "import matplotlib.pyplot as plt\n",
    "from transformers import pipeline, AutoModelForSequenceClassification, AutoTokenizer\n",
    "\n",
    "# 设置设备\n",
    "device = 0 if torch.cuda.is_available() else -1\n",
    "print(f\"使用设备: {'GPU' if device == 0 else 'CPU'}\")\n",
    "\n",
    "# 定义要比较的情感分析模型\n",
    "sentiment_models = [\n",
    "    \"distilbert-base-uncased-finetuned-sst-2-english\",  # 轻量级模型\n",
    "    \"nlptown/bert-base-multilingual-uncased-sentiment\",  # 多语言模型\n",
    "    \"cardiffnlp/twitter-roberta-base-sentiment\",        # Twitter领域模型\n",
    "    \"textattack/bert-base-uncased-SST-2-finetuned\",     # 对抗训练模型\n",
    "    \"siebert/sentiment-roberta-large-english\"           # 大型模型\n",
    "]\n",
    "\n",
    "# 测试数据集 - 包含不同情感强度和场景的文本\n",
    "test_texts = [\n",
    "    # 明显积极\n",
    "    \"I absolutely love this product! It exceeded all my expectations and I would highly recommend it to everyone.\",\n",
    "    # 轻微积极\n",
    "    \"The movie was okay, not the best I've seen but certainly not the worst either.\",\n",
    "    # 中性\n",
    "    \"The package arrived on time as scheduled.\",\n",
    "    # 轻微消极\n",
    "    \"I wasn't really impressed with the service, but it wasn't terrible either.\",\n",
    "    # 明显消极\n",
    "    \"This is the worst experience I've ever had with any company. I will never use their services again!\",\n",
    "    # 带有讽刺的文本\n",
    "    \"Oh great, another rainy day. Just what I needed for my outdoor plans.\",\n",
    "    # 情感复杂的文本\n",
    "    \"The food was delicious but the service was so slow that it ruined the overall experience.\"\n",
    "]\n",
    "\n",
    "# 存储结果\n",
    "results = {}\n",
    "\n",
    "# 运行情感分析测试\n",
    "print(\"\\n===== 情感分析模型对比 =====\")\n",
    "for model_name in sentiment_models:\n",
    "    print(f\"\\n正在测试模型: {model_name}\")\n",
    "    \n",
    "    # 记录总时间（包括加载时间）\n",
    "    total_start = time.time()\n",
    "    \n",
    "    # 加载模型和分词器\n",
    "    try:\n",
    "        # 显式加载模型和分词器，以便更好地控制\n",
    "        tokenizer = AutoTokenizer.from_pretrained(model_name)\n",
    "        model = AutoModelForSequenceClassification.from_pretrained(model_name)\n",
    "        classifier = pipeline(\n",
    "            \"sentiment-analysis\",\n",
    "            model=model,\n",
    "            tokenizer=tokenizer,\n",
    "            device=device\n",
    "        )\n",
    "    except Exception as e:\n",
    "        print(f\"加载模型 {model_name} 失败: {str(e)}\")\n",
    "        continue\n",
    "    \n",
    "    # 记录推理时间\n",
    "    inference_times = []\n",
    "    model_results = []\n",
    "    \n",
    "    # 对每个测试文本进行分析\n",
    "    for text in test_texts:\n",
    "        start_time = time.time()\n",
    "        result = classifier(text)\n",
    "        end_time = time.time()\n",
    "        \n",
    "        # 计算推理时间\n",
    "        inference_time = end_time - start_time\n",
    "        inference_times.append(inference_time)\n",
    "        \n",
    "        # 存储结果\n",
    "        model_results.append({\n",
    "            \"text\": text,\n",
    "            \"result\": result,\n",
    "            \"inference_time\": inference_time\n",
    "        })\n",
    "        \n",
    "        # 打印当前文本的分析结果\n",
    "        print(f\"文本: {text[:50]}...\")\n",
    "        for res in result:\n",
    "            print(f\"  情感: {res['label']}, 置信度: {res['score']:.4f}, 耗时: {inference_time:.4f}秒\")\n",
    "    \n",
    "    # 计算平均推理时间\n",
    "    avg_inference_time = sum(inference_times) / len(inference_times)\n",
    "    total_time = time.time() - total_start\n",
    "    \n",
    "    # 保存模型结果\n",
    "    results[model_name] = {\n",
    "        \"results\": model_results,\n",
    "        \"avg_inference_time\": avg_inference_time,\n",
    "        \"total_time\": total_time,\n",
    "        \"model_size\": f\"{sum(p.numel() for p in model.parameters())/1e6:.1f}M 参数\"\n",
    "    }\n",
    "    \n",
    "    # 打印模型总结\n",
    "    print(f\"\\n模型 {model_name} 总结:\")\n",
    "    print(f\"  平均推理时间: {avg_inference_time:.4f}秒\")\n",
    "    print(f\"  总耗时 (包括加载): {total_time:.4f}秒\")\n",
    "    print(f\"  模型大小: {results[model_name]['model_size']}\")\n",
    "\n",
    "# 生成性能对比报告\n",
    "print(\"\\n===== 情感分析模型性能对比 =====\")\n",
    "print(f\"{'模型名称':<60} | {'平均推理时间(秒)':<20} | {'模型大小'}\")\n",
    "print(\"-\" * 100)\n",
    "for model, data in results.items():\n",
    "    print(f\"{model:<60} | {data['avg_inference_time']:<20.4f} | {data['model_size']}\")\n",
    "\n",
    "# 可视化结果 - 平均推理时间对比\n",
    "plt.figure(figsize=(12, 6))\n",
    "model_names = list(results.keys())\n",
    "avg_times = [results[model]['avg_inference_time'] for model in model_names]\n",
    "model_sizes = [results[model]['model_size'] for model in model_names]\n",
    "\n",
    "# 绘制平均推理时间条形图\n",
    "bars = plt.barh(model_names, avg_times, color='skyblue')\n",
    "plt.xlabel('平均推理时间 (秒)')\n",
    "plt.title('不同情感分析模型的平均推理时间对比')\n",
    "\n",
    "# 在条形旁添加模型大小信息\n",
    "for bar, size in zip(bars, model_sizes):\n",
    "    width = bar.get_width()\n",
    "    plt.text(width + 0.001, bar.get_y() + bar.get_height()/2, \n",
    "             f'{size}', va='center')\n",
    "\n",
    "plt.tight_layout()\n",
    "plt.savefig('sentiment_model_inference_time.png')\n",
    "plt.show()\n",
    "\n",
    "# 分析模型在不同情感类型文本上的表现\n",
    "print(\"\\n===== 模型在不同情感类型文本上的表现 =====\")\n",
    "text_categories = [\n",
    "    \"明显积极\", \"轻微积极\", \"中性\", \n",
    "    \"轻微消极\", \"明显消极\", \"讽刺文本\", \"复杂情感\"\n",
    "]\n",
    "\n",
    "for i, category in enumerate(text_categories):\n",
    "    print(f\"\\n{category}文本分析:\")\n",
    "    print(f\"{'模型名称':<60} | {'预测情感':<15} | {'置信度':<10}\")\n",
    "    print(\"-\" * 90)\n",
    "    for model, data in results.items():\n",
    "        result = data['results'][i]['result'][0]\n",
    "        print(f\"{model:<60} | {result['label']:<15} | {result['score']:.4f}\")\n",
    "    "
   ]
  },
  {
   "cell_type": "code",
   "execution_count": 70,
   "id": "1f57c2d0-1b71-4a5f-baf4-81ff1f9fac55",
   "metadata": {},
   "outputs": [
    {
     "name": "stderr",
     "output_type": "stream",
     "text": [
      "Special tokens have been added in the vocabulary, make sure the associated word embeddings are fine-tuned or trained.\n",
      "Special tokens have been added in the vocabulary, make sure the associated word embeddings are fine-tuned or trained.\n"
     ]
    },
    {
     "name": "stdout",
     "output_type": "stream",
     "text": [
      "翻译任务对比：\n",
      "t5-small: 输出=Hugging Face est une tribune communautaire de l'apprentissage des machines.，耗时=1.0024s\n",
      "t5-base: 输出=Hugging Face est une plate-forme libre basée sur la communauté pour l'apprentissage automatique.，耗时=2.3663s\n"
     ]
    }
   ],
   "source": [
    "import time\n",
    "from transformers import pipeline, T5ForConditionalGeneration, T5Tokenizer\n",
    "\n",
    "# 输入文本\n",
    "text = \"translate English to French: Hugging Face is a community-based open-source platform for machine learning.\"\n",
    "\n",
    "# 定义对比函数\n",
    "def run_translation(model_name):\n",
    "    # 加载模型和tokenizer\n",
    "    tokenizer = T5Tokenizer.from_pretrained(model_name)\n",
    "    model = T5ForConditionalGeneration.from_pretrained(model_name)\n",
    "    \n",
    "    # 创建pipeline\n",
    "    translator = pipeline(\"translation\", model=model, tokenizer=tokenizer)\n",
    "    \n",
    "    # 记录推理时间\n",
    "    start_time = time.time()\n",
    "    result = translator(text)\n",
    "    end_time = time.time()\n",
    "    \n",
    "    return {\n",
    "        \"model\": model_name,\n",
    "        \"output\": result[0][\"translation_text\"],\n",
    "        \"time\": round(end_time - start_time, 4)  # 推理时间（秒）\n",
    "    }\n",
    "\n",
    "# 运行t5-small\n",
    "small_result = run_translation(\"t5-small\")\n",
    "# 运行t5-base\n",
    "base_result = run_translation(\"t5-base\")\n",
    "\n",
    "# 打印结果\n",
    "print(\"翻译任务对比：\")\n",
    "print(f\"t5-small: 输出={small_result['output']}，耗时={small_result['time']}s\")\n",
    "print(f\"t5-base: 输出={base_result['output']}，耗时={base_result['time']}s\")"
   ]
  },
  {
   "cell_type": "code",
   "execution_count": null,
   "id": "1abab047-68d4-45f9-8436-d992d81a9b9b",
   "metadata": {},
   "outputs": [],
   "source": []
  }
 ],
 "metadata": {
  "kernelspec": {
   "display_name": "AliOpenAPI",
   "language": "python",
   "name": "aliopenapi"
  },
  "language_info": {
   "codemirror_mode": {
    "name": "ipython",
    "version": 3
   },
   "file_extension": ".py",
   "mimetype": "text/x-python",
   "name": "python",
   "nbconvert_exporter": "python",
   "pygments_lexer": "ipython3",
   "version": "3.11.7"
  }
 },
 "nbformat": 4,
 "nbformat_minor": 5
}
